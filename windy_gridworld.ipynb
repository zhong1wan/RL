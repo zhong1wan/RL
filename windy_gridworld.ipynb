{
 "cells": [
  {
   "cell_type": "markdown",
   "metadata": {},
   "source": [
    "# Windy Gridworld\n",
    "\n",
    "Here we study a standard gridworld problem with start and goal states, but there is a crosswind upward through the middel of the grid. There are four standard actions: up, down, right and left - but in the middle region the resultant next states are shifted upward by a 'wind', the strength of which varies from column to column. We treat this problem as an undiscounted task, with constant reward of -1 until the goal state is reached."
   ]
  },
  {
   "cell_type": "code",
   "execution_count": 2,
   "metadata": {},
   "outputs": [],
   "source": [
    "import numpy as np\n",
    "import matplotlib.pyplot as plt"
   ]
  },
  {
   "cell_type": "code",
   "execution_count": 63,
   "metadata": {},
   "outputs": [],
   "source": [
    "C, R = 10, 7                           # number of columns and rows\n",
    "Sc, Sr, Gc, Gr = 0, 3, 7, 3            # coordinates of start and goal states\n",
    "ws = [0, 0, 0, 1, 1, 1, 2, 2, 1, 0]    # wind strength\n",
    "\n",
    "ep = .1                                # epsilon-greediness\n",
    "gamma = 1                              # discount\n",
    "alpha = .5                             # learning rate\n",
    "Rw = -1                                # fixed reward for each step"
   ]
  },
  {
   "cell_type": "code",
   "execution_count": 4,
   "metadata": {},
   "outputs": [
    {
     "name": "stdout",
     "output_type": "stream",
     "text": [
      "(4, 0)\n",
      "(2, 0)\n",
      "(3, 1)\n",
      "(3, 0)\n"
     ]
    }
   ],
   "source": [
    "def dynamics(r, c, a):\n",
    "    \n",
    "    # action: 0 = up, 1 = down, 2 = right, 3 = left\n",
    "    r_new, c_new = r, c\n",
    "    \n",
    "    if a == 0:\n",
    "        r_new = min(r + 1, R - 1)\n",
    "        \n",
    "    elif a == 1:\n",
    "        r_new = max(r - 1, 0)\n",
    "        \n",
    "    elif a == 2:\n",
    "        c_new = min(c + 1, C - 1)\n",
    "        \n",
    "    elif a == 3:\n",
    "        c_new = max(c - 1, 0)\n",
    "        \n",
    "    else:\n",
    "        print('action out of range!')\n",
    "        \n",
    "    r_new = min(r_new + ws[c_new], R - 1)\n",
    "    \n",
    "    return r_new, c_new\n",
    "\n",
    "# test cases\n",
    "rr, cc = 3, 0\n",
    "print(dynamics(rr, cc, 0))\n",
    "print(dynamics(rr, cc, 1))\n",
    "print(dynamics(rr, cc, 2))\n",
    "print(dynamics(rr, cc, 3))"
   ]
  },
  {
   "cell_type": "code",
   "execution_count": 18,
   "metadata": {},
   "outputs": [],
   "source": [
    "import random\n",
    "\n",
    "def ep_greedy(r, c, Q):\n",
    "    \n",
    "    # identify invalid actions (move past walls)\n",
    "    actions = list(range(4))\n",
    "    if r == 0:\n",
    "        actions.remove(1)\n",
    "    elif r == R - 1:\n",
    "        actions.remove(0)\n",
    "        \n",
    "    if c == 0:\n",
    "        actions.remove(3)\n",
    "    elif c == C - 1:\n",
    "        actions.remove(2)\n",
    "        \n",
    "    # extract action values\n",
    "    action_v = list(Q[r, c, actions])\n",
    "#     print(actions)\n",
    "    \n",
    "    # pick action using an epsilon-greedy strategy\n",
    "    if (np.random.rand() < ep):\n",
    "        # randomly choose an action\n",
    "        a = random.choice(actions)\n",
    "    else:\n",
    "        # greedy approach\n",
    "        a = actions[action_v.index(max(action_v))]\n",
    "        \n",
    "    return a"
   ]
  },
  {
   "cell_type": "code",
   "execution_count": 64,
   "metadata": {},
   "outputs": [],
   "source": [
    "# Sarsa algorithm\n",
    "Q = np.ones((R, C, 4))          # initialize action state value lookup table\n",
    "Q[Gr, Gc, :] = 0                # set Q(terminal state, a) = 0 for all a\n",
    "max_eps = 170\n",
    "steps = [0]\n",
    "for eps in range(max_eps):\n",
    "    num_steps = 0\n",
    "    c, r = Sc, Sr\n",
    "    T = False\n",
    "    a = ep_greedy(c, r, Q)\n",
    "    while T is False:\n",
    "        rp, cp = dynamics(r, c, a)\n",
    "        ap = ep_greedy(rp, cp, Q)\n",
    "        Q[r, c, a] = Q[r, c, a] + alpha*(Rw + gamma*Q[rp, cp, ap] - Q[r, c, a])\n",
    "        r, c = rp, cp\n",
    "        a = ap\n",
    "        if r == Gr and c == Gc:\n",
    "            T = True\n",
    "        num_steps += 1\n",
    "        \n",
    "    steps.append(num_steps)"
   ]
  },
  {
   "cell_type": "markdown",
   "metadata": {},
   "source": [
    "Here we plot the number of episodes vs. total time steps (Figure 6.4 in Sutton & Barto). The increasing slope of the graph shows that the goal is reached more and more quickly."
   ]
  },
  {
   "cell_type": "code",
   "execution_count": 65,
   "metadata": {},
   "outputs": [
    {
     "data": {
      "image/png": "[encoded data removed]",
      "text/plain": [
       "<matplotlib.figure.Figure at 0x111eb1e48>"
      ]
     },
     "metadata": {},
     "output_type": "display_data"
    }
   ],
   "source": [
    "plt.figure()\n",
    "plt.plot(np.cumsum(np.array(steps)), np.arange(max_eps + 1))\n",
    "plt.xlabel('Time steps')\n",
    "plt.ylabel('Episodes')\n",
    "plt.show()"
   ]
  },
  {
   "cell_type": "markdown",
   "metadata": {},
   "source": [
    "Next we plot the action values at each grid location."
   ]
  },
  {
   "cell_type": "code",
   "execution_count": 66,
   "metadata": {},
   "outputs": [
    {
     "data": {
      "image/png": "[encoded data removed]",
      "text/plain": [
       "<matplotlib.figure.Figure at 0x1122ac780>"
      ]
     },
     "metadata": {},
     "output_type": "display_data"
    }
   ],
   "source": [
    "f, axarr = plt.subplots(2, 2)\n",
    "im0 = axarr[0, 0].pcolor(Q[:,:,0], cmap='RdBu')\n",
    "axarr[0, 0].set_title('Action value for moving up')\n",
    "f.colorbar(im0, ax=axarr[0, 0])\n",
    "\n",
    "im1 = axarr[0, 1].pcolor(Q[:,:,1], cmap='RdBu')\n",
    "axarr[0, 1].set_title('Action value for moving down')\n",
    "f.colorbar(im1, ax=axarr[0, 1])\n",
    "\n",
    "im2 = axarr[1, 0].pcolor(Q[:,:,2], cmap='RdBu')\n",
    "axarr[1, 0].set_title('Action value for moving right')\n",
    "f.colorbar(im2, ax=axarr[1, 0])\n",
    "\n",
    "im3 = axarr[1, 1].pcolor(Q[:,:,3], cmap='RdBu')\n",
    "axarr[1, 1].set_title('Action value for moving left')\n",
    "f.colorbar(im3, ax=axarr[1, 1])\n",
    "\n",
    "plt.tight_layout()"
   ]
  },
  {
   "cell_type": "code",
   "execution_count": null,
   "metadata": {},
   "outputs": [],
   "source": []
  }
 ],
 "metadata": {
  "kernelspec": {
   "display_name": "Python 3",
   "language": "python",
   "name": "python3"
  },
  "language_info": {
   "codemirror_mode": {
    "name": "ipython",
    "version": 3
   },
   "file_extension": ".py",
   "mimetype": "text/x-python",
   "name": "python",
   "nbconvert_exporter": "python",
   "pygments_lexer": "ipython3",
   "version": "3.5.2"
  }
 },
 "nbformat": 4,
 "nbformat_minor": 2
}
